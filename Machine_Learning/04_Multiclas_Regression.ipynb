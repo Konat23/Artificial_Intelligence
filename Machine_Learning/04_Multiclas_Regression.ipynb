{
  "nbformat": 4,
  "nbformat_minor": 0,
  "metadata": {
    "colab": {
      "provenance": []
    },
    "kernelspec": {
      "name": "python3",
      "display_name": "Python 3"
    },
    "language_info": {
      "name": "python"
    }
  },
  "cells": [
    {
      "cell_type": "markdown",
      "source": [
        " **bold text**\n",
        "\n",
        "Generate a softmax multiclass model for a X dataset. This dataset contains 5 data of 6 feaatures each data.\n",
        "\n",
        "X should be classified in three categories with a sofmax multiclass model.\n",
        "\n",
        "\n",
        "\n",
        "1.   Generate a random version of the dataset X.\n",
        "2.   Generate a random version of the dataset W and B.\n",
        "3.   Find Z, Y_prob and Y_class\n",
        "\n",
        "\n"
      ],
      "metadata": {
        "id": "oTo9wx_U9ylR"
      }
    },
    {
      "cell_type": "code",
      "execution_count": null,
      "metadata": {
        "id": "zpm6ne6kRK7r"
      },
      "outputs": [],
      "source": [
        "import numpy as np"
      ]
    },
    {
      "cell_type": "code",
      "source": [
        "ndata = 5\n",
        "nfeatures = 6\n",
        "ncategories = 3\n",
        "# Creating the sintetic data\n",
        "np.random.seed(seed=35)\n",
        "nx=nfeatures\n",
        "m = ndata\n",
        "c=ncategories\n",
        "W=np.random.normal(size=(c,nx))\n",
        "X=np.random.normal(size=(nx,m))\n",
        "B=np.random.normal(size=(c,1))\n",
        "\n",
        "# Calculating the scores z\n",
        "#\n",
        "#\n",
        "\n",
        "z = np.matmul(W,X) + B\n",
        "\n",
        "# Calculating the probabilities Y_prob\n",
        "#\n",
        "#\n",
        "\n",
        "Y_prob = np.exp(z) / np.sum(np.exp(z), axis = 0)\n",
        "# Calculating the classes Y_class\n",
        "#\n",
        "#\n",
        "Y_class = np.zeros(Y_prob.shape)\n",
        "Y_class[np.argmax(Y_prob, axis = 0),np.arange(m)]=1\n",
        "\n",
        "print(\"Z=\",z)\n",
        "print(\"Y_prob=\",Y_prob)\n",
        "print(\"Y_class=\",Y_class)\n"
      ],
      "metadata": {
        "id": "NMcjimxIRXUu",
        "outputId": "f4402044-6d74-42a7-859d-de1151b0a192",
        "colab": {
          "base_uri": "https://localhost:8080/"
        }
      },
      "execution_count": null,
      "outputs": [
        {
          "output_type": "stream",
          "name": "stdout",
          "text": [
            "Z= [[-3.23134684 -0.69025769 -5.0057793  -3.71701779 -1.80186273]\n",
            " [ 0.64356189  0.72891688  2.33954505  2.41227437 -0.12318231]\n",
            " [-1.6240481  -3.13297332 -3.60870694 -2.12828322  0.22836912]]\n",
            "Y_prob= [[1.84612148e-02 1.91547711e-01 6.43508665e-04 2.15049777e-03\n",
            "  7.15597700e-02]\n",
            " [8.89429959e-01 7.91802104e-01 9.96754564e-01 9.87317337e-01\n",
            "  3.83451621e-01]\n",
            " [9.21088257e-02 1.66501845e-02 2.60192765e-03 1.05321650e-02\n",
            "  5.44988609e-01]]\n",
            "Y_class= [[0. 0. 0. 0. 0.]\n",
            " [1. 1. 1. 1. 0.]\n",
            " [0. 0. 0. 0. 1.]]\n"
          ]
        }
      ]
    },
    {
      "cell_type": "markdown",
      "source": [
        "Extrapoints: If the label data is Y = [2, 0, 1, 2, 0]. Calculate dW and dB.\n"
      ],
      "metadata": {
        "id": "ziwDn3XD9Of7"
      }
    },
    {
      "cell_type": "code",
      "source": [
        "Y = np.array([[0,0,1],[1,0,0],[0,1,0],[0,0,1],[1,0,0]]).transpose()\n",
        "\n",
        "dW = -np.dot((Y-Y_prob),X.T)/m"
      ],
      "metadata": {
        "id": "H5W-_vLPlVIz"
      },
      "execution_count": null,
      "outputs": []
    },
    {
      "cell_type": "code",
      "source": [
        "dW"
      ],
      "metadata": {
        "colab": {
          "base_uri": "https://localhost:8080/"
        },
        "id": "XALxzJNYrPLe",
        "outputId": "abe35505-14e4-4d29-98b0-33d3df192621"
      },
      "execution_count": null,
      "outputs": [
        {
          "output_type": "execute_result",
          "data": {
            "text/plain": [
              "array([[-0.22307886, -0.1214153 ,  0.05845516, -0.03170216,  0.14037119,\n",
              "        -0.25833221],\n",
              "       [ 0.14798788, -0.21500614, -0.27986172,  0.06215345,  0.2992932 ,\n",
              "        -0.5124235 ],\n",
              "       [ 0.07509098,  0.33642143,  0.22140656, -0.03045129, -0.43966439,\n",
              "         0.77075572]])"
            ]
          },
          "metadata": {},
          "execution_count": 35
        }
      ]
    },
    {
      "cell_type": "code",
      "source": [
        "dW"
      ],
      "metadata": {
        "colab": {
          "base_uri": "https://localhost:8080/"
        },
        "id": "-BVtgWourtSk",
        "outputId": "b0650a65-b62d-498b-977b-02cf23563de2"
      },
      "execution_count": null,
      "outputs": [
        {
          "output_type": "execute_result",
          "data": {
            "text/plain": [
              "array([[ 1.11539429,  0.60707649, -0.29227581,  0.15851081, -0.70185597,\n",
              "         1.29166107],\n",
              "       [-0.73993939,  1.07503068,  1.39930859, -0.31076726, -1.49646598,\n",
              "         2.56211752],\n",
              "       [-0.37545491, -1.68210717, -1.10703278,  0.15225645,  2.19832195,\n",
              "        -3.85377859]])"
            ]
          },
          "metadata": {},
          "execution_count": 30
        }
      ]
    }
  ]
}